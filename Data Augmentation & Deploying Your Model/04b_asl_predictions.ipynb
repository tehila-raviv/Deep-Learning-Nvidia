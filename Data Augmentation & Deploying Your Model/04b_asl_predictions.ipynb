{
 "cells": [
  {
   "cell_type": "markdown",
   "metadata": {
    "id": "EKFbMeI4Csut"
   },
   "source": [
    "<center><a href=\"https://www.nvidia.com/dli\"> <img src=\"images/DLI_Header.png\" alt=\"Header\" style=\"width: 400px;\"/> </a></center>"
   ]
  },
  {
   "cell_type": "markdown",
   "metadata": {
    "id": "GyRFI0IJCsuu"
   },
   "source": [
    "# 4b. Deploying Your Model\n",
    "Now that we have a well trained model, it's time to use it. In this exercise, we'll expose new images to our model and detect the correct letters of the sign language alphabet. Let's get started!"
   ]
  },
  {
   "cell_type": "markdown",
   "metadata": {
    "id": "wdYYMU1WCsuv"
   },
   "source": [
    "## 4b.1 Objectives"
   ]
  },
  {
   "cell_type": "markdown",
   "metadata": {
    "id": "SeXBHUIjCsuv"
   },
   "source": [
    "* Load an already-trained model from disk\n",
    "* Reformat images for a model trained on images of a different format\n",
    "* Perform inference with new images, never seen by the trained model and evaluate its performance"
   ]
  },
  {
   "cell_type": "code",
   "execution_count": 1,
   "metadata": {
    "colab": {
     "base_uri": "https://localhost:8080/"
    },
    "executionInfo": {
     "elapsed": 260,
     "status": "ok",
     "timestamp": 1715244405026,
     "user": {
      "displayName": "Danielle Detering US",
      "userId": "15432464718872067879"
     },
     "user_tz": 420
    },
    "id": "idwYaoghaqIp",
    "outputId": "79b63437-52ca-448c-92c5-59857227be18"
   },
   "outputs": [
    {
     "data": {
      "text/plain": [
       "True"
      ]
     },
     "execution_count": 1,
     "metadata": {},
     "output_type": "execute_result"
    }
   ],
   "source": [
    "import pandas as pd\n",
    "import torch\n",
    "import torch.nn as nn\n",
    "from torch.optim import Adam\n",
    "from torch.utils.data import Dataset, DataLoader\n",
    "import torchvision.io as tv_io\n",
    "import torchvision.transforms.v2 as transforms\n",
    "import torchvision.transforms.functional as F\n",
    "import matplotlib.pyplot as plt\n",
    "\n",
    "device = torch.device(\"cuda\" if torch.cuda.is_available() else \"cpu\")\n",
    "torch.cuda.is_available()"
   ]
  },
  {
   "cell_type": "markdown",
   "metadata": {
    "id": "xo-pr5-zCsuv"
   },
   "source": [
    "## 4b.2 Loading the Model\n",
    "Now that we're in a new notebook, let's load the saved model that we trained. Our save from the previous exercise created a folder called \"asl_model\". We can load the model by selecting the same folder."
   ]
  },
  {
   "cell_type": "markdown",
   "metadata": {},
   "source": [
    "Since our model uses a [custom module](https://pytorch.org/tutorials/beginner/examples_nn/two_layer_net_module.html), we will need to load the code for that class. We have saved a copy of the code in [utils.py](./uitls.py)."
   ]
  },
  {
   "cell_type": "code",
   "execution_count": 2,
   "metadata": {
    "executionInfo": {
     "elapsed": 169,
     "status": "ok",
     "timestamp": 1715242471134,
     "user": {
      "displayName": "Danielle Detering US",
      "userId": "15432464718872067879"
     },
     "user_tz": 420
    },
    "id": "jiI87fNVZdRl"
   },
   "outputs": [],
   "source": [
    "from utils import MyConvBlock"
   ]
  },
  {
   "cell_type": "markdown",
   "metadata": {},
   "source": [
    "Now that we have a definition for `MyConvBlock`, we can use [torch.load](https://pytorch.org/docs/stable/generated/torch.load.html) to load a model from a path. We can use `map_location to specify the device. When we print the model, does it look the same as in the last notebook?"
   ]
  },
  {
   "cell_type": "code",
   "execution_count": 3,
   "metadata": {
    "executionInfo": {
     "elapsed": 180,
     "status": "ok",
     "timestamp": 1715242473387,
     "user": {
      "displayName": "Danielle Detering US",
      "userId": "15432464718872067879"
     },
     "user_tz": 420
    },
    "id": "-Xy1JuL-Csuv"
   },
   "outputs": [
    {
     "data": {
      "text/plain": [
       "Sequential(\n",
       "  (0): MyConvBlock(\n",
       "    (model): Sequential(\n",
       "      (0): Conv2d(1, 25, kernel_size=(3, 3), stride=(1, 1), padding=(1, 1))\n",
       "      (1): BatchNorm2d(25, eps=1e-05, momentum=0.1, affine=True, track_running_stats=True)\n",
       "      (2): ReLU()\n",
       "      (3): Dropout(p=0, inplace=False)\n",
       "      (4): MaxPool2d(kernel_size=2, stride=2, padding=0, dilation=1, ceil_mode=False)\n",
       "    )\n",
       "  )\n",
       "  (1): MyConvBlock(\n",
       "    (model): Sequential(\n",
       "      (0): Conv2d(25, 50, kernel_size=(3, 3), stride=(1, 1), padding=(1, 1))\n",
       "      (1): BatchNorm2d(50, eps=1e-05, momentum=0.1, affine=True, track_running_stats=True)\n",
       "      (2): ReLU()\n",
       "      (3): Dropout(p=0.2, inplace=False)\n",
       "      (4): MaxPool2d(kernel_size=2, stride=2, padding=0, dilation=1, ceil_mode=False)\n",
       "    )\n",
       "  )\n",
       "  (2): MyConvBlock(\n",
       "    (model): Sequential(\n",
       "      (0): Conv2d(50, 75, kernel_size=(3, 3), stride=(1, 1), padding=(1, 1))\n",
       "      (1): BatchNorm2d(75, eps=1e-05, momentum=0.1, affine=True, track_running_stats=True)\n",
       "      (2): ReLU()\n",
       "      (3): Dropout(p=0, inplace=False)\n",
       "      (4): MaxPool2d(kernel_size=2, stride=2, padding=0, dilation=1, ceil_mode=False)\n",
       "    )\n",
       "  )\n",
       "  (3): Flatten(start_dim=1, end_dim=-1)\n",
       "  (4): Linear(in_features=675, out_features=512, bias=True)\n",
       "  (5): Dropout(p=0.3, inplace=False)\n",
       "  (6): ReLU()\n",
       "  (7): Linear(in_features=512, out_features=24, bias=True)\n",
       ")"
      ]
     },
     "execution_count": 3,
     "metadata": {},
     "output_type": "execute_result"
    }
   ],
   "source": [
    "model = torch.load('model.pth', map_location=device)\n",
    "model"
   ]
  },
  {
   "cell_type": "markdown",
   "metadata": {
    "id": "WIjqbFCFCsuv"
   },
   "source": [
    "We can also verify if the model is on our GPU."
   ]
  },
  {
   "cell_type": "code",
   "execution_count": 4,
   "metadata": {
    "colab": {
     "base_uri": "https://localhost:8080/"
    },
    "executionInfo": {
     "elapsed": 174,
     "status": "ok",
     "timestamp": 1715242474520,
     "user": {
      "displayName": "Danielle Detering US",
      "userId": "15432464718872067879"
     },
     "user_tz": 420
    },
    "id": "_ulCst9GCsuw",
    "outputId": "0d55b14d-9b52-49e7-efda-76a05abe21ed"
   },
   "outputs": [
    {
     "data": {
      "text/plain": [
       "device(type='cuda', index=0)"
      ]
     },
     "execution_count": 4,
     "metadata": {},
     "output_type": "execute_result"
    }
   ],
   "source": [
    "next(model.parameters()).device"
   ]
  },
  {
   "cell_type": "markdown",
   "metadata": {
    "id": "pBBneFIXCsuw"
   },
   "source": [
    "## 4b.3 Preparing an Image for the Model"
   ]
  },
  {
   "cell_type": "markdown",
   "metadata": {
    "id": "gffCLeacCsuw"
   },
   "source": [
    "It's now time to use the model to make predictions on new images that it's never seen before. This is also called inference. We have a set of images in the `data/asl_images` folder. Try opening it using the left navigation and explore the images.\n",
    "\n",
    "You'll notice that the images we have are much higher resolution than the images in our dataset. They are also in color. Remember that our images in the dataset were 28x28 pixels and grayscale. It's important to keep in mind that whenever we make predictions with a model, the input must match the shape of the data that the model was trained on. For this model, the training dataset was of the shape: (27455, 28, 28, 1). This corresponded to 27455 images of 28 by 28 pixels each with one color channel (grayscale)."
   ]
  },
  {
   "cell_type": "markdown",
   "metadata": {
    "id": "UXeujDRFCsuw"
   },
   "source": [
    "### 4b.3.1 Showing the Images"
   ]
  },
  {
   "cell_type": "markdown",
   "metadata": {
    "id": "8gLvKQ1yCsuw"
   },
   "source": [
    "When we use our model to make predictions on new images, it will be useful to show the image as well. We can use the matplotlib library to do this."
   ]
  },
  {
   "cell_type": "code",
   "execution_count": 5,
   "metadata": {
    "executionInfo": {
     "elapsed": 131,
     "status": "ok",
     "timestamp": 1715243759243,
     "user": {
      "displayName": "Danielle Detering US",
      "userId": "15432464718872067879"
     },
     "user_tz": 420
    },
    "id": "qzzai3QZCsuw"
   },
   "outputs": [],
   "source": [
    "import matplotlib.pyplot as plt\n",
    "import matplotlib.image as mpimg\n",
    "\n",
    "def show_image(image_path):\n",
    "    image = mpimg.imread(image_path)\n",
    "    plt.imshow(image, cmap='gray')"
   ]
  },
  {
   "cell_type": "code",
   "execution_count": 6,
   "metadata": {
    "colab": {
     "base_uri": "https://localhost:8080/",
     "height": 434
    },
    "executionInfo": {
     "elapsed": 745,
     "status": "ok",
     "timestamp": 1715243543244,
     "user": {
      "displayName": "Danielle Detering US",
      "userId": "15432464718872067879"
     },
     "user_tz": 420
    },
    "id": "ZFzwvkalCsuw",
    "outputId": "74ad4eac-4f99-413f-9d9f-54cad0d5d7e7"
   },
   "outputs": [
    {
     "data": {
      "image/png": "[encoded data removed]",
      "text/plain": [
       "<Figure size 640x480 with 1 Axes>"
      ]
     },
     "metadata": {},
     "output_type": "display_data"
    }
   ],
   "source": [
    "show_image('data/asl_images/b.png')"
   ]
  },
  {
   "cell_type": "markdown",
   "metadata": {
    "id": "ORPUII6qCsux"
   },
   "source": [
    "### 4b.3.2 Scaling the Images"
   ]
  },
  {
   "cell_type": "markdown",
   "metadata": {
    "id": "eYcawjxlCsux"
   },
   "source": [
    "The images in our dataset were 28x28 pixels and grayscale. We need to make sure to pass the same size and grayscale images into our method for prediction. There are a few ways to edit images with Python, but TorchVision also has the [read_image](https://pytorch.org/vision/stable/generated/torchvision.io.read_image.html) function. We can let it know what kind of image to read with [ImageReadMode](https://pytorch.org/vision/stable/generated/torchvision.io.ImageReadMode.html#torchvision.io.ImageReadMode)."
   ]
  },
  {
   "cell_type": "code",
   "execution_count": 7,
   "metadata": {
    "colab": {
     "base_uri": "https://localhost:8080/"
    },
    "executionInfo": {
     "elapsed": 158,
     "status": "ok",
     "timestamp": 1715244417167,
     "user": {
      "displayName": "Danielle Detering US",
      "userId": "15432464718872067879"
     },
     "user_tz": 420
    },
    "id": "lDJu6JrEffRP",
    "outputId": "927907d8-3c33-4a3c-bd9f-3b1844a40b2d"
   },
   "outputs": [
    {
     "data": {
      "text/plain": [
       "tensor([[[247, 223, 178,  ..., 223, 231, 238],\n",
       "         [245, 221, 178,  ..., 213, 223, 232],\n",
       "         [244, 220, 177,  ..., 204, 217, 228],\n",
       "         ...,\n",
       "         [247, 243, 238,  ..., 223, 231, 238],\n",
       "         [249, 246, 243,  ..., 232, 238, 243],\n",
       "         [250, 248, 246,  ..., 240, 243, 246]]], dtype=torch.uint8)"
      ]
     },
     "execution_count": 7,
     "metadata": {},
     "output_type": "execute_result"
    }
   ],
   "source": [
    "image = tv_io.read_image('data/asl_images/b.png', tv_io.ImageReadMode.GRAY)\n",
    "image"
   ]
  },
  {
   "cell_type": "markdown",
   "metadata": {},
   "source": [
    "Let's look at the shape of the image."
   ]
  },
  {
   "cell_type": "code",
   "execution_count": 8,
   "metadata": {
    "colab": {
     "base_uri": "https://localhost:8080/"
    },
    "executionInfo": {
     "elapsed": 4,
     "status": "ok",
     "timestamp": 1715244124709,
     "user": {
      "displayName": "Danielle Detering US",
      "userId": "15432464718872067879"
     },
     "user_tz": 420
    },
    "id": "8iJ4A8YagRvP",
    "outputId": "858dc8bc-8595-4189-8738-954ac6630d0c"
   },
   "outputs": [
    {
     "data": {
      "text/plain": [
       "torch.Size([1, 184, 186])"
      ]
     },
     "execution_count": 8,
     "metadata": {},
     "output_type": "execute_result"
    }
   ],
   "source": [
    "image.shape"
   ]
  },
  {
   "cell_type": "markdown",
   "metadata": {},
   "source": [
    "This image is much larger than what we trained on. We can use [TorchVision](https://pytorch.org/vision/stable/index.html)'s [Transforms](https://pytorch.org/vision/0.9/transforms.html) again to get the data in the form our model expects.\n",
    "\n",
    "We will:\n",
    "* Convert the image to float with [ToDtype](https://pytorch.org/vision/stable/generated/torchvision.transforms.v2.ToDtype.html)\n",
    "  * We will set `scale` to `True` in order to convert from [0, 255] to [0, 1]\n",
    "* [Resize](https://pytorch.org/vision/stable/generated/torchvision.transforms.v2.Resize.html#torchvision.transforms.v2.Resize) the image to be 28 x 28 pixels\n",
    "* Convert the images to [Grayscale](https://pytorch.org/vision/stable/generated/torchvision.transforms.v2.Grayscale.html#torchvision.transforms.v2.Grayscale)\n",
    "  * This step doesn't do anything since our models are already grayscale, but we've added it here to show an alternative way to get grayscale images."
   ]
  },
  {
   "cell_type": "code",
   "execution_count": 9,
   "metadata": {
    "executionInfo": {
     "elapsed": 337,
     "status": "ok",
     "timestamp": 1715244596376,
     "user": {
      "displayName": "Danielle Detering US",
      "userId": "15432464718872067879"
     },
     "user_tz": 420
    },
    "id": "lNp6Q9cBe8Xw"
   },
   "outputs": [],
   "source": [
    "IMG_WIDTH = 28\n",
    "IMG_HEIGHT = 28\n",
    "\n",
    "preprocess_trans = transforms.Compose([\n",
    "    transforms.ToDtype(torch.float32, scale=True), # Converts [0, 255] to [0, 1]\n",
    "    transforms.Resize((IMG_WIDTH, IMG_HEIGHT)),\n",
    "    transforms.Grayscale()  # From Color to Gray\n",
    "])"
   ]
  },
  {
   "cell_type": "markdown",
   "metadata": {},
   "source": [
    "Let's test `preprocess_trans` on an image to make sure it works correctly:"
   ]
  },
  {
   "cell_type": "code",
   "execution_count": 10,
   "metadata": {
    "colab": {
     "base_uri": "https://localhost:8080/"
    },
    "executionInfo": {
     "elapsed": 164,
     "status": "ok",
     "timestamp": 1715244649391,
     "user": {
      "displayName": "Danielle Detering US",
      "userId": "15432464718872067879"
     },
     "user_tz": 420
    },
    "id": "BBS7SjnBhIe6",
    "outputId": "fadd047d-3763-4b05-ea2e-ebe0427bf30d"
   },
   "outputs": [
    {
     "data": {
      "text/plain": [
       "tensor([[[0.6960, 0.6279, 0.6348, 0.6493, 0.6584, 0.6599, 0.6638, 0.6630,\n",
       "          0.6652, 0.6677, 0.6711, 0.6696, 0.6661, 0.6677, 0.7103, 0.6559,\n",
       "          0.6369, 0.6507, 0.6464, 0.6379, 0.6293, 0.6216, 0.6139, 0.6074,\n",
       "          0.5984, 0.5895, 0.5836, 0.6977],\n",
       "         [0.7013, 0.6388, 0.6480, 0.6578, 0.6647, 0.6687, 0.6709, 0.6734,\n",
       "          0.6746, 0.6794, 0.6814, 0.6784, 0.6902, 0.6801, 0.7648, 0.6606,\n",
       "          0.5610, 0.6348, 0.6418, 0.6509, 0.6417, 0.6308, 0.6252, 0.6197,\n",
       "          0.6095, 0.6007, 0.5923, 0.6773],\n",
       "         [0.7061, 0.6479, 0.6588, 0.6668, 0.6743, 0.6811, 0.6845, 0.6848,\n",
       "          0.6872, 0.6898, 0.6913, 0.6909, 0.7671, 0.6833, 0.6945, 0.6803,\n",
       "          0.4720, 0.6061, 0.5686, 0.6548, 0.6566, 0.6471, 0.6380, 0.6273,\n",
       "          0.6198, 0.6124, 0.6078, 0.6837],\n",
       "         [0.7165, 0.6603, 0.6699, 0.6770, 0.6821, 0.6880, 0.6959, 0.7001,\n",
       "          0.7027, 0.7014, 0.7009, 0.7041, 0.8257, 0.6885, 0.6387, 0.7202,\n",
       "          0.4938, 0.6614, 0.5266, 0.6351, 0.6649, 0.6595, 0.6516, 0.6407,\n",
       "          0.6298, 0.6250, 0.6173, 0.6882],\n",
       "         [0.7256, 0.6709, 0.6799, 0.6854, 0.6910, 0.6969, 0.7043, 0.7103,\n",
       "          0.7102, 0.7125, 0.7133, 0.7139, 0.8611, 0.7188, 0.6335, 0.7608,\n",
       "          0.5303, 0.6766, 0.5499, 0.6246, 0.6762, 0.6699, 0.6645, 0.6554,\n",
       "          0.6432, 0.6351, 0.6240, 0.6924],\n",
       "         [0.7330, 0.6805, 0.6897, 0.6953, 0.7027, 0.7094, 0.7154, 0.7206,\n",
       "          0.7205, 0.7473, 0.7414, 0.6798, 0.8693, 0.7476, 0.5998, 0.7269,\n",
       "          0.5397, 0.7189, 0.6083, 0.6100, 0.6883, 0.6822, 0.6731, 0.6665,\n",
       "          0.6588, 0.6521, 0.6393, 0.6989],\n",
       "         [0.7381, 0.6909, 0.7028, 0.7075, 0.7144, 0.7201, 0.7251, 0.7277,\n",
       "          0.7299, 0.7945, 0.7620, 0.6435, 0.8501, 0.7202, 0.5661, 0.6856,\n",
       "          0.5410, 0.7322, 0.6136, 0.5906, 0.7007, 0.6934, 0.6836, 0.6775,\n",
       "          0.6707, 0.6633, 0.6509, 0.7029],\n",
       "         [0.7454, 0.7010, 0.7137, 0.7207, 0.7251, 0.7304, 0.7372, 0.7406,\n",
       "          0.7431, 0.8278, 0.7804, 0.6528, 0.8622, 0.7322, 0.5645, 0.7076,\n",
       "          0.5461, 0.7335, 0.6120, 0.5866, 0.7123, 0.7053, 0.6987, 0.6888,\n",
       "          0.6808, 0.6742, 0.6646, 0.7099],\n",
       "         [0.7548, 0.7075, 0.7196, 0.7268, 0.7351, 0.7442, 0.7504, 0.7523,\n",
       "          0.7529, 0.8489, 0.8071, 0.6684, 0.8756, 0.7723, 0.5502, 0.6870,\n",
       "          0.5366, 0.7457, 0.6330, 0.6015, 0.7237, 0.7172, 0.7115, 0.7009,\n",
       "          0.6905, 0.6835, 0.6765, 0.7163],\n",
       "         [0.7651, 0.7217, 0.7307, 0.7373, 0.7441, 0.7520, 0.7572, 0.7596,\n",
       "          0.7575, 0.8611, 0.7932, 0.6405, 0.8541, 0.7321, 0.4840, 0.6115,\n",
       "          0.4894, 0.7340, 0.6253, 0.6107, 0.7308, 0.7246, 0.7194, 0.7067,\n",
       "          0.6986, 0.6930, 0.6829, 0.7200],\n",
       "         [0.7702, 0.7298, 0.7419, 0.7504, 0.7515, 0.7571, 0.7627, 0.7644,\n",
       "          0.7634, 0.8619, 0.8145, 0.6129, 0.7897, 0.6791, 0.5235, 0.5689,\n",
       "          0.5194, 0.6971, 0.5656, 0.6145, 0.7395, 0.7311, 0.7311, 0.7198,\n",
       "          0.7063, 0.6992, 0.6877, 0.7236],\n",
       "         [0.7731, 0.7333, 0.7501, 0.7598, 0.7619, 0.7667, 0.7735, 0.7755,\n",
       "          0.7703, 0.8683, 0.8244, 0.6060, 0.7601, 0.7788, 0.6607, 0.6570,\n",
       "          0.7361, 0.6433, 0.4766, 0.6062, 0.7470, 0.7415, 0.7397, 0.7300,\n",
       "          0.7173, 0.7084, 0.7005, 0.7292],\n",
       "         [0.7803, 0.7425, 0.7562, 0.7661, 0.7716, 0.7772, 0.7853, 0.7869,\n",
       "          0.7865, 0.8939, 0.8366, 0.7290, 0.7087, 0.6765, 0.7185, 0.7146,\n",
       "          0.7481, 0.6516, 0.4623, 0.5844, 0.7550, 0.7527, 0.7436, 0.7345,\n",
       "          0.7249, 0.7188, 0.7139, 0.7344],\n",
       "         [0.7857, 0.7519, 0.7614, 0.7720, 0.7795, 0.7852, 0.7930, 0.7927,\n",
       "          0.8062, 0.9326, 0.8685, 0.7303, 0.6154, 0.5670, 0.6339, 0.6400,\n",
       "          0.7295, 0.7404, 0.5492, 0.5713, 0.7595, 0.7567, 0.7497, 0.7437,\n",
       "          0.7353, 0.7283, 0.7236, 0.7384],\n",
       "         [0.7962, 0.7608, 0.7683, 0.7789, 0.7867, 0.7942, 0.7976, 0.7982,\n",
       "          0.8256, 0.9599, 0.8613, 0.6690, 0.5525, 0.5470, 0.5942, 0.6353,\n",
       "          0.8142, 0.8427, 0.6780, 0.5950, 0.7625, 0.7631, 0.7567, 0.7536,\n",
       "          0.7469, 0.7327, 0.7221, 0.7353],\n",
       "         [0.7973, 0.7658, 0.7763, 0.7849, 0.7925, 0.8019, 0.8045, 0.8049,\n",
       "          0.8447, 0.9687, 0.8495, 0.6453, 0.5374, 0.5607, 0.6472, 0.7540,\n",
       "          0.8591, 0.8658, 0.7467, 0.5874, 0.7299, 0.7715, 0.7537, 0.7251,\n",
       "          0.7073, 0.6471, 0.5496, 0.6368],\n",
       "         [0.7989, 0.7678, 0.7793, 0.7858, 0.7936, 0.7991, 0.8039, 0.8086,\n",
       "          0.8519, 0.9733, 0.8659, 0.6545, 0.5515, 0.5869, 0.6860, 0.8312,\n",
       "          0.8993, 0.8434, 0.7308, 0.5500, 0.6788, 0.7556, 0.5820, 0.4817,\n",
       "          0.4493, 0.3947, 0.3452, 0.5655],\n",
       "         [0.7989, 0.7647, 0.7767, 0.7855, 0.7954, 0.7989, 0.8028, 0.8095,\n",
       "          0.8439, 0.9725, 0.8849, 0.6788, 0.5622, 0.6192, 0.7184, 0.8763,\n",
       "          0.9149, 0.8298, 0.6990, 0.5179, 0.6845, 0.6413, 0.4226, 0.3916,\n",
       "          0.3717, 0.3501, 0.3414, 0.5592],\n",
       "         [0.8004, 0.7709, 0.7811, 0.7876, 0.7997, 0.8057, 0.8108, 0.8123,\n",
       "          0.8408, 0.9708, 0.9007, 0.7175, 0.5854, 0.6416, 0.7505, 0.9147,\n",
       "          0.9114, 0.8024, 0.6537, 0.5100, 0.6431, 0.4907, 0.3608, 0.3266,\n",
       "          0.3042, 0.2913, 0.3058, 0.5493],\n",
       "         [0.8028, 0.7784, 0.7892, 0.7968, 0.8067, 0.8115, 0.8168, 0.8176,\n",
       "          0.8394, 0.9602, 0.9093, 0.7519, 0.6211, 0.6364, 0.7657, 0.9326,\n",
       "          0.8834, 0.7556, 0.6154, 0.4715, 0.4537, 0.3496, 0.2947, 0.2483,\n",
       "          0.2108, 0.1780, 0.2274, 0.5359],\n",
       "         [0.8084, 0.7843, 0.7959, 0.8028, 0.8100, 0.8145, 0.8210, 0.8248,\n",
       "          0.8378, 0.9428, 0.9149, 0.7884, 0.6723, 0.6375, 0.7476, 0.9119,\n",
       "          0.8402, 0.7004, 0.5736, 0.4211, 0.3561, 0.3111, 0.2596, 0.2185,\n",
       "          0.2065, 0.1963, 0.2376, 0.5366],\n",
       "         [0.8119, 0.7835, 0.7957, 0.8038, 0.8107, 0.8182, 0.8257, 0.8293,\n",
       "          0.8348, 0.9140, 0.9279, 0.8250, 0.7242, 0.6641, 0.7005, 0.8559,\n",
       "          0.7827, 0.6306, 0.5190, 0.3836, 0.3422, 0.3344, 0.2802, 0.2049,\n",
       "          0.1894, 0.2016, 0.2194, 0.5103],\n",
       "         [0.7556, 0.7140, 0.7286, 0.7326, 0.7406, 0.7492, 0.7635, 0.7719,\n",
       "          0.7784, 0.8478, 0.9378, 0.8447, 0.7514, 0.6784, 0.6332, 0.7672,\n",
       "          0.7035, 0.5411, 0.4454, 0.3365, 0.3069, 0.3305, 0.3317, 0.2358,\n",
       "          0.1783, 0.1908, 0.2093, 0.4976],\n",
       "         [0.5617, 0.4596, 0.4660, 0.4625, 0.4623, 0.4683, 0.4773, 0.4887,\n",
       "          0.5028, 0.6108, 0.9405, 0.8575, 0.7469, 0.6421, 0.5607, 0.6235,\n",
       "          0.5803, 0.4467, 0.3607, 0.2649, 0.2650, 0.2896, 0.3480, 0.2902,\n",
       "          0.1924, 0.1703, 0.1971, 0.4916],\n",
       "         [0.5361, 0.4209, 0.4179, 0.4154, 0.4167, 0.4162, 0.4127, 0.4203,\n",
       "          0.3978, 0.4286, 0.8714, 0.8004, 0.6628, 0.5521, 0.4909, 0.5096,\n",
       "          0.4805, 0.3808, 0.2422, 0.1745, 0.2185, 0.2453, 0.3183, 0.3221,\n",
       "          0.2315, 0.1644, 0.1780, 0.4908],\n",
       "         [0.5491, 0.4269, 0.4296, 0.4264, 0.4323, 0.4326, 0.4330, 0.4380,\n",
       "          0.3963, 0.2552, 0.6048, 0.6484, 0.5450, 0.4699, 0.4480, 0.4281,\n",
       "          0.3992, 0.2762, 0.1146, 0.1069, 0.1878, 0.2146, 0.2748, 0.3332,\n",
       "          0.2809, 0.1870, 0.1570, 0.4802],\n",
       "         [0.5653, 0.4458, 0.4453, 0.4379, 0.4472, 0.4517, 0.4541, 0.4578,\n",
       "          0.4619, 0.3272, 0.4061, 0.5462, 0.5046, 0.4474, 0.4330, 0.3681,\n",
       "          0.3074, 0.1693, 0.0934, 0.1482, 0.2546, 0.2427, 0.2538, 0.3271,\n",
       "          0.3277, 0.2437, 0.1819, 0.4824],\n",
       "         [0.7822, 0.6822, 0.6749, 0.6725, 0.6757, 0.6784, 0.6790, 0.6801,\n",
       "          0.6824, 0.6579, 0.6527, 0.6838, 0.6824, 0.6756, 0.6680, 0.6401,\n",
       "          0.6141, 0.5686, 0.5584, 0.5850, 0.6220, 0.6086, 0.6050, 0.6293,\n",
       "          0.6379, 0.6134, 0.5933, 0.7271]]])"
      ]
     },
     "execution_count": 10,
     "metadata": {},
     "output_type": "execute_result"
    }
   ],
   "source": [
    "processed_image = preprocess_trans(image)\n",
    "processed_image"
   ]
  },
  {
   "cell_type": "markdown",
   "metadata": {},
   "source": [
    "The numbers look correct, but how about the shape?"
   ]
  },
  {
   "cell_type": "code",
   "execution_count": 11,
   "metadata": {},
   "outputs": [
    {
     "data": {
      "text/plain": [
       "torch.Size([1, 28, 28])"
      ]
     },
     "execution_count": 11,
     "metadata": {},
     "output_type": "execute_result"
    }
   ],
   "source": [
    "processed_image.shape"
   ]
  },
  {
   "cell_type": "markdown",
   "metadata": {},
   "source": [
    "Next, let's plot the image to see if it looks like what we trained on."
   ]
  },
  {
   "cell_type": "code",
   "execution_count": 12,
   "metadata": {},
   "outputs": [
    {
     "data": {
      "text/plain": [
       "<matplotlib.image.AxesImage at 0x7fbf0df52a40>"
      ]
     },
     "execution_count": 12,
     "metadata": {},
     "output_type": "execute_result"
    },
    {
     "data": {
      "image/png": "[encoded data removed]",
      "text/plain": [
       "<Figure size 640x480 with 1 Axes>"
      ]
     },
     "metadata": {},
     "output_type": "display_data"
    }
   ],
   "source": [
    "plot_image = F.to_pil_image(processed_image)\n",
    "plt.imshow(plot_image, cmap='gray')"
   ]
  },
  {
   "cell_type": "markdown",
   "metadata": {},
   "source": [
    "Looking good! Let's pass it to our model."
   ]
  },
  {
   "cell_type": "markdown",
   "metadata": {},
   "source": [
    "### 4b.4 Making Predictions"
   ]
  },
  {
   "cell_type": "markdown",
   "metadata": {
    "id": "vYl2JcUJCsuy"
   },
   "source": [
    "Okay, now we're ready to predict! Our model still expects a batch of images. If the [squeeze](https://pytorch.org/docs/stable/generated/torch.squeeze.htmlhttps://pytorch.org/docs/stable/generated/torch.squeeze.html) removes dimensions of 1, [unsqueeze](https://pytorch.org/docs/stable/generated/torch.unsqueeze.htmlhttps://pytorch.org/docs/stable/generated/torch.unsqueeze.html) adds a dimension of 1 at the index we specify. The first dimension is usually the batch dimension, so we can say `.unsqueeze(0)`."
   ]
  },
  {
   "cell_type": "code",
   "execution_count": 13,
   "metadata": {
    "colab": {
     "base_uri": "https://localhost:8080/"
    },
    "executionInfo": {
     "elapsed": 168,
     "status": "ok",
     "timestamp": 1715244907170,
     "user": {
      "displayName": "Danielle Detering US",
      "userId": "15432464718872067879"
     },
     "user_tz": 420
    },
    "id": "L-xZGe1SCsux",
    "outputId": "12b26af6-e1ce-4989-864b-9e26419c4f84"
   },
   "outputs": [
    {
     "data": {
      "text/plain": [
       "torch.Size([1, 1, 28, 28])"
      ]
     },
     "execution_count": 13,
     "metadata": {},
     "output_type": "execute_result"
    }
   ],
   "source": [
    "batched_image = processed_image.unsqueeze(0)\n",
    "batched_image.shape"
   ]
  },
  {
   "cell_type": "markdown",
   "metadata": {},
   "source": [
    "Next, we should make sure the input tensor is on the same `device` as the model."
   ]
  },
  {
   "cell_type": "code",
   "execution_count": 14,
   "metadata": {},
   "outputs": [
    {
     "data": {
      "text/plain": [
       "device(type='cuda', index=0)"
      ]
     },
     "execution_count": 14,
     "metadata": {},
     "output_type": "execute_result"
    }
   ],
   "source": [
    "batched_image_gpu = batched_image.to(device)\n",
    "batched_image_gpu.device"
   ]
  },
  {
   "cell_type": "markdown",
   "metadata": {},
   "source": [
    "Now we're ready to pass it to the model!"
   ]
  },
  {
   "cell_type": "code",
   "execution_count": 15,
   "metadata": {
    "colab": {
     "base_uri": "https://localhost:8080/"
    },
    "executionInfo": {
     "elapsed": 176,
     "status": "ok",
     "timestamp": 1715245336961,
     "user": {
      "displayName": "Danielle Detering US",
      "userId": "15432464718872067879"
     },
     "user_tz": 420
    },
    "id": "WhLIaQIhkE0c",
    "outputId": "f3fe15e3-f524-4218-c278-31e740299237"
   },
   "outputs": [
    {
     "data": {
      "text/plain": [
       "tensor([[-25.1640,  13.8263, -13.9015, -17.3703,  -3.5210,  -4.0938,  -9.8832,\n",
       "         -29.2368,  -6.5011, -12.5316,  -8.7274, -14.2844, -13.6141, -37.6329,\n",
       "          -3.6336, -21.0714, -16.8232, -32.3917, -17.9015,  -6.6065, -11.1691,\n",
       "           3.2632, -12.5602, -23.5258]], device='cuda:0',\n",
       "       grad_fn=<AddmmBackward0>)"
      ]
     },
     "execution_count": 15,
     "metadata": {},
     "output_type": "execute_result"
    }
   ],
   "source": [
    "output = model(batched_image_gpu)\n",
    "output"
   ]
  },
  {
   "cell_type": "markdown",
   "metadata": {
    "id": "CCleBaVCCsuz"
   },
   "source": [
    "### 4b.4.1 Understanding the Prediction"
   ]
  },
  {
   "cell_type": "markdown",
   "metadata": {
    "id": "QNIv09wxCsuz"
   },
   "source": [
    "The predictions are in the format of a 24 length array. The larger the value, the more likely the input image belongs to the corresponding class. Let's make it a little more readable. We can start by finding which element of the array represents the highest probability. This can be done easily with the numpy library and the [argmax](https://numpy.org/doc/stable/reference/generated/numpy.argmax.html) function."
   ]
  },
  {
   "cell_type": "code",
   "execution_count": 16,
   "metadata": {
    "executionInfo": {
     "elapsed": 171,
     "status": "ok",
     "timestamp": 1715245408487,
     "user": {
      "displayName": "Danielle Detering US",
      "userId": "15432464718872067879"
     },
     "user_tz": 420
    },
    "id": "gm6J4jxcCsuz"
   },
   "outputs": [
    {
     "data": {
      "text/plain": [
       "1"
      ]
     },
     "execution_count": 16,
     "metadata": {},
     "output_type": "execute_result"
    }
   ],
   "source": [
    "prediction = output.argmax(dim=1).item()\n",
    "prediction"
   ]
  },
  {
   "cell_type": "markdown",
   "metadata": {
    "id": "BpZzxObRCsuz"
   },
   "source": [
    "Each element of the prediction array represents a possible letter in the sign language alphabet. Remember that j and z are not options because they involve moving the hand, and we're only dealing with still photos. Let's create a mapping between the index of the predictions array, and the corresponding letter."
   ]
  },
  {
   "cell_type": "code",
   "execution_count": 17,
   "metadata": {
    "executionInfo": {
     "elapsed": 139,
     "status": "ok",
     "timestamp": 1715245412136,
     "user": {
      "displayName": "Danielle Detering US",
      "userId": "15432464718872067879"
     },
     "user_tz": 420
    },
    "id": "1ExBb6fMCsuz"
   },
   "outputs": [],
   "source": [
    "# Alphabet does not contain j or z because they require movement\n",
    "alphabet = \"abcdefghiklmnopqrstuvwxy\""
   ]
  },
  {
   "cell_type": "markdown",
   "metadata": {
    "id": "uXy2Ze9kCsuz"
   },
   "source": [
    "We can now pass in our prediction index to find the corresponding letter."
   ]
  },
  {
   "cell_type": "code",
   "execution_count": 18,
   "metadata": {
    "colab": {
     "base_uri": "https://localhost:8080/",
     "height": 36
    },
    "executionInfo": {
     "elapsed": 140,
     "status": "ok",
     "timestamp": 1715245413856,
     "user": {
      "displayName": "Danielle Detering US",
      "userId": "15432464718872067879"
     },
     "user_tz": 420
    },
    "id": "VNxyHNZmCsuz",
    "outputId": "87063db2-9c3d-45ed-f32f-6e5700fde9c8"
   },
   "outputs": [
    {
     "data": {
      "text/plain": [
       "'b'"
      ]
     },
     "execution_count": 18,
     "metadata": {},
     "output_type": "execute_result"
    }
   ],
   "source": [
    "alphabet[prediction]"
   ]
  },
  {
   "cell_type": "markdown",
   "metadata": {
    "id": "Hs2_6guPCsuz"
   },
   "source": [
    "#### Exercise: Put it all Together"
   ]
  },
  {
   "cell_type": "markdown",
   "metadata": {
    "id": "KobsgLirCsuz"
   },
   "source": [
    "Let's put everything in a function so that we can make predictions just from the image file. Implement it in the function below using the functions and steps above. If you need help, you can reveal the solution by clicking the three dots below."
   ]
  },
  {
   "cell_type": "code",
   "execution_count": 19,
   "metadata": {
    "id": "f3prZEMgCsuz"
   },
   "outputs": [],
   "source": [
    "# SOLUTION\n",
    "def predict_letter(file_path):\n",
    "    show_image(file_path)\n",
    "    image = tv_io.read_image(file_path, tv_io.ImageReadMode.GRAY)\n",
    "    image = preprocess_trans(image)\n",
    "    image = image.unsqueeze(0)\n",
    "    image = image.to(device)\n",
    "    output = model(image)\n",
    "    prediction = output.argmax(dim=1).item()\n",
    "    # convert prediction to letter\n",
    "    predicted_letter = alphabet[prediction]\n",
    "    return predicted_letter"
   ]
  },
  {
   "cell_type": "markdown",
   "metadata": {
    "id": "enmPt4goCsu0"
   },
   "source": [
    "#### Solution"
   ]
  },
  {
   "cell_type": "markdown",
   "metadata": {
    "id": "Zfp8Cxm9Csu0"
   },
   "source": [
    "Click on the '...' below to view the solution."
   ]
  },
  {
   "cell_type": "code",
   "execution_count": null,
   "metadata": {
    "executionInfo": {
     "elapsed": 146,
     "status": "ok",
     "timestamp": 1715245521266,
     "user": {
      "displayName": "Danielle Detering US",
      "userId": "15432464718872067879"
     },
     "user_tz": 420
    },
    "id": "wTUx5fWMCsu_",
    "tags": []
   },
   "outputs": [],
   "source": [
    "# SOLUTION\n",
    "def predict_letter(file_path):\n",
    "    show_image(file_path)\n",
    "    image = tv_io.read_image(file_path, tv_io.ImageReadMode.GRAY)\n",
    "    image = preprocess_trans(image)\n",
    "    image = image.unsqueeze(0)\n",
    "    image = image.to(device)\n",
    "    output = model(image)\n",
    "    prediction = output.argmax(dim=1).item()\n",
    "    # convert prediction to letter\n",
    "    predicted_letter = alphabet[prediction]\n",
    "    return predicted_letter"
   ]
  },
  {
   "cell_type": "code",
   "execution_count": null,
   "metadata": {
    "colab": {
     "base_uri": "https://localhost:8080/",
     "height": 453
    },
    "executionInfo": {
     "elapsed": 648,
     "status": "ok",
     "timestamp": 1715245523822,
     "user": {
      "displayName": "Danielle Detering US",
      "userId": "15432464718872067879"
     },
     "user_tz": 420
    },
    "id": "MWqiMAhwCsu_",
    "outputId": "32476dc7-79ef-4280-ba34-725a46837aae"
   },
   "outputs": [],
   "source": [
    "predict_letter(\"data/asl_images/b.png\")"
   ]
  },
  {
   "cell_type": "markdown",
   "metadata": {
    "id": "JNZSUoinCsvA"
   },
   "source": [
    "Let's also use the function with the 'a' letter in the asl_images datset:"
   ]
  },
  {
   "cell_type": "code",
   "execution_count": null,
   "metadata": {
    "colab": {
     "base_uri": "https://localhost:8080/",
     "height": 453
    },
    "executionInfo": {
     "elapsed": 754,
     "status": "ok",
     "timestamp": 1715245527515,
     "user": {
      "displayName": "Danielle Detering US",
      "userId": "15432464718872067879"
     },
     "user_tz": 420
    },
    "id": "xk0F5w53CsvA",
    "outputId": "1cfe6713-59ec-4ce4-d4de-22d4cf464783"
   },
   "outputs": [],
   "source": [
    "predict_letter(\"data/asl_images/a.png\")"
   ]
  },
  {
   "cell_type": "markdown",
   "metadata": {
    "id": "cFaxufFbCsvA"
   },
   "source": [
    "## 4b.5 Summary"
   ]
  },
  {
   "cell_type": "markdown",
   "metadata": {
    "id": "ZtsAm4TJCsvA"
   },
   "source": [
    "Great work on these exercises! You've gone through the full process of training a highly accurate model from scratch, and then using the model to make new and valuable predictions. If you have some time, we encourage you to take pictures with your webcam, upload them by dropping them into the data/asl_images folder, and test out the model on them. For Mac you can use Photo Booth. For windows you can select the Camera app from your start screen. We hope you try it. It's a good opportunity to learn some sign language! For instance, try out the letters of your name.\n",
    "\n",
    "We can imagine how this model could be used in an application to teach someone sign language, or even help someone who cannot speak interact with a computer."
   ]
  },
  {
   "cell_type": "markdown",
   "metadata": {
    "id": "zyfxj0v0CsvA"
   },
   "source": [
    "### 4b.5.1 Clear the Memory"
   ]
  },
  {
   "cell_type": "markdown",
   "metadata": {
    "id": "JtO6ds0LCsvA"
   },
   "source": [
    "Before moving on, please execute the following cell to clear up the GPU memory."
   ]
  },
  {
   "cell_type": "code",
   "execution_count": null,
   "metadata": {
    "id": "mN85KA47CsvA"
   },
   "outputs": [],
   "source": [
    "import IPython\n",
    "app = IPython.Application.instance()\n",
    "app.kernel.do_shutdown(True)"
   ]
  },
  {
   "cell_type": "markdown",
   "metadata": {
    "id": "jKNrUtH1CsvA"
   },
   "source": [
    "### 4b.5.2 Next"
   ]
  },
  {
   "cell_type": "markdown",
   "metadata": {
    "id": "k1VRSuYLCsvA"
   },
   "source": [
    "We hope you've enjoyed these exercises. In the next sections we will learn how to take advantage of deep learning when we don't have a robust dataset available. See you there!\n",
    "To learn more about inference on the edge, check out [this paper](http://web.eecs.umich.edu/~mosharaf/Readings/FB-ML-Edge.pdf) on the topic."
   ]
  },
  {
   "cell_type": "markdown",
   "metadata": {
    "id": "QnOZX0ClCsvA"
   },
   "source": [
    "Now that we're familiar building your own models and have some understanding of how they work, we will turn our attention to the very powerful technique of using pre-trained models to expedite your work."
   ]
  },
  {
   "cell_type": "markdown",
   "metadata": {
    "id": "4bnILHG8CsvA"
   },
   "source": [
    "<center><a href=\"https://www.nvidia.com/dli\"> <img src=\"images/DLI_Header.png\" alt=\"Header\" style=\"width: 400px;\"/> </a></center>"
   ]
  }
 ],
 "metadata": {
  "colab": {
   "provenance": []
  },
  "kernelspec": {
   "display_name": "Python 3 (ipykernel)",
   "language": "python",
   "name": "python3"
  },
  "language_info": {
   "codemirror_mode": {
    "name": "ipython",
    "version": 3
   },
   "file_extension": ".py",
   "mimetype": "text/x-python",
   "name": "python",
   "nbconvert_exporter": "python",
   "pygments_lexer": "ipython3",
   "version": "3.10.12"
  }
 },
 "nbformat": 4,
 "nbformat_minor": 4
}
